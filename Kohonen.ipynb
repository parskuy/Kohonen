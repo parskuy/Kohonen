{
 "cells": [
  {
   "cell_type": "markdown",
   "metadata": {},
   "source": [
    "# Kohonen Self Organizing Maps\n",
    "\n",
    "Notebook ini berisi contoh pengaplikasian Kohonen SOM pada dataset Iris.\n",
    "\n",
    "Mulanya, import terlebih dahulu semua library yang dibutuhkan."
   ]
  },
  {
   "cell_type": "code",
   "execution_count": 2,
   "metadata": {},
   "outputs": [],
   "source": [
    "import numpy as np\n",
    "from sklearn import datasets\n",
    "import matplotlib.pyplot as plt\n",
    "from neupy import algorithms, utils\n",
    "import warnings\n",
    "warnings.filterwarnings(\"ignore\")"
   ]
  },
  {
   "cell_type": "markdown",
   "metadata": {},
   "source": [
    "Kemudian, load dataset iris akan kita gunakan dari library sklearn."
   ]
  },
  {
   "cell_type": "code",
   "execution_count": 3,
   "metadata": {},
   "outputs": [],
   "source": [
    "iris = datasets.load_iris()\n",
    "data = iris.data[:, [2, 3]]\n",
    "target = iris.target"
   ]
  },
  {
   "cell_type": "markdown",
   "metadata": {},
   "source": [
    "Definisikan fungsi kohonen, lalu lakukan training pada data."
   ]
  },
  {
   "cell_type": "code",
   "execution_count": 4,
   "metadata": {
    "scrolled": false
   },
   "outputs": [
    {
     "name": "stdout",
     "output_type": "stream",
     "text": [
      "\n",
      "Main information\n",
      "\n",
      "[ALGORITHM] SOFM\n",
      "\r\n",
      "[OPTION] distance = ['euclid', 'neg_euclid_distance']\n",
      "[OPTION] features_grid = None\n",
      "[OPTION] grid_type = ['rectangle', 'find_neighbours_on_rect_grid', 'find_step_scaler_on_rect_grid']\n",
      "[OPTION] learning_radius = 0\n",
      "[OPTION] n_inputs = 2\n",
      "[OPTION] n_outputs = 20\n",
      "[OPTION] reduce_radius_after = 100\n",
      "[OPTION] reduce_std_after = 100\n",
      "[OPTION] reduce_step_after = 100\n",
      "[OPTION] show_epoch = 1\n",
      "[OPTION] shuffle_data = True\n",
      "[OPTION] signals = None\n",
      "[OPTION] std = 1\n",
      "[OPTION] step = 0.5\n",
      "[OPTION] verbose = True\n",
      "[OPTION] weight = sample_data\n",
      "\r\n",
      "#1 : [41 ms] train: 0.095464\n",
      "#2 : [25 ms] train: 0.090410\n",
      "#3 : [15 ms] train: 0.091521\n",
      "#4 : [30 ms] train: 0.090476\n",
      "#5 : [28 ms] train: 0.093286\n",
      "#6 : [23 ms] train: 0.096486\n",
      "#7 : [20 ms] train: 0.091290\n"
     ]
    },
    {
     "name": "stderr",
     "output_type": "stream",
     "text": [
      "\r",
      "                                                                               \r",
      "\r",
      "                                                                               \r",
      "\r",
      "                                                                               \r",
      "\r",
      "                                                                               \r",
      "\r",
      "                                                                               \r",
      "\r",
      "                                                                               \r",
      "\r",
      "                                                                               \r",
      "\r",
      "                                                                               \r",
      "\r",
      "                                                                               \r"
     ]
    },
    {
     "name": "stdout",
     "output_type": "stream",
     "text": [
      "#8 : [30 ms] train: 0.088329\n",
      "#9 : [30 ms] train: 0.086271\n",
      "#10 : [30 ms] train: 0.092659\n",
      "#11 : [30 ms] train: 0.090282\n",
      "#12 : [20 ms] train: 0.088419\n",
      "#13 : [31 ms] train: 0.090539\n",
      "#14 : [28 ms] train: 0.084642\n"
     ]
    },
    {
     "name": "stderr",
     "output_type": "stream",
     "text": [
      "\r",
      "                                                                               \r",
      "\r",
      "                                                                               \r",
      "\r",
      "                                                                               \r",
      "\r",
      "                                                                               \r",
      "\r",
      "                                                                               \r",
      "\r",
      "                                                                               \r",
      "\r",
      "                                                                               \r",
      "\r",
      "                                                                               \r"
     ]
    },
    {
     "name": "stdout",
     "output_type": "stream",
     "text": [
      "#15 : [22 ms] train: 0.090210\n",
      "#16 : [26 ms] train: 0.082734\n",
      "#17 : [29 ms] train: 0.086253\n",
      "#18 : [31 ms] train: 0.089233\n",
      "#19 : [25 ms] train: 0.088886\n",
      "#20 : [19 ms] train: 0.086620\n",
      "#21 : [21 ms] train: 0.086498\n",
      "#22 : [30 ms] train: 0.086046\n",
      "#23 : [25 ms] train: 0.087557\n"
     ]
    },
    {
     "name": "stderr",
     "output_type": "stream",
     "text": [
      "\r",
      "                                                                               \r",
      "\r",
      "                                                                               \r",
      "\r",
      "                                                                               \r",
      "\r",
      "                                                                               \r",
      "\r",
      "                                                                               \r",
      "\r",
      "                                                                               \r",
      "\r",
      "                                                                               \r",
      "\r",
      "                                                                               \r",
      "\r",
      "                                                                               \r"
     ]
    },
    {
     "name": "stdout",
     "output_type": "stream",
     "text": [
      "#24 : [22 ms] train: 0.086497\n",
      "#25 : [23 ms] train: 0.087666\n",
      "#26 : [29 ms] train: 0.087724\n",
      "#27 : [31 ms] train: 0.088578\n",
      "#28 : [19 ms] train: 0.088490\n",
      "#29 : [30 ms] train: 0.087179\n",
      "#30 : [32 ms] train: 0.085269\n",
      "#31 : [23 ms] train: 0.087865\n"
     ]
    },
    {
     "name": "stderr",
     "output_type": "stream",
     "text": [
      "\r",
      "                                                                               \r",
      "\r",
      "                                                                               \r",
      "\r",
      "                                                                               \r",
      "\r",
      "                                                                               \r",
      "\r",
      "                                                                               \r",
      "\r",
      "                                                                               \r",
      "\r",
      "                                                                               \r",
      "\r",
      "                                                                               \r"
     ]
    },
    {
     "name": "stdout",
     "output_type": "stream",
     "text": [
      "#32 : [25 ms] train: 0.083994\n",
      "#33 : [30 ms] train: 0.084932\n",
      "#34 : [17 ms] train: 0.085123\n",
      "#35 : [30 ms] train: 0.085205\n",
      "#36 : [28 ms] train: 0.085883\n",
      "#37 : [20 ms] train: 0.083693\n",
      "#38 : [25 ms] train: 0.085504\n",
      "#39 : [20 ms] train: 0.084163\n"
     ]
    },
    {
     "name": "stderr",
     "output_type": "stream",
     "text": [
      "\r",
      "                                                                               \r",
      "\r",
      "                                                                               \r",
      "\r",
      "                                                                               \r",
      "\r",
      "                                                                               \r",
      "\r",
      "                                                                               \r",
      "\r",
      "                                                                               \r",
      "\r",
      "                                                                               \r",
      "\r",
      "                                                                               \r"
     ]
    },
    {
     "name": "stdout",
     "output_type": "stream",
     "text": [
      "#40 : [39 ms] train: 0.083329\n",
      "#41 : [26 ms] train: 0.085741\n",
      "#42 : [25 ms] train: 0.086269\n",
      "#43 : [30 ms] train: 0.083652\n",
      "#44 : [30 ms] train: 0.084624\n",
      "#45 : [20 ms] train: 0.086630\n",
      "#46 : [35 ms] train: 0.086552\n",
      "#47 : [25 ms] train: 0.085912"
     ]
    },
    {
     "name": "stderr",
     "output_type": "stream",
     "text": [
      "\r",
      "                                                                               \r",
      "\r",
      "                                                                               \r",
      "\r",
      "                                                                               \r",
      "\r",
      "                                                                               \r",
      "\r",
      "                                                                               \r",
      "\r",
      "                                                                               \r",
      "\r",
      "                                                                               \r"
     ]
    },
    {
     "name": "stdout",
     "output_type": "stream",
     "text": [
      "\n",
      "#48 : [30 ms] train: 0.085878\n",
      "#49 : [30 ms] train: 0.083789\n",
      "#50 : [20 ms] train: 0.083766\n",
      "#51 : [30 ms] train: 0.083784\n",
      "#52 : [25 ms] train: 0.080925\n",
      "#53 : [30 ms] train: 0.080676\n",
      "#54 : [22 ms] train: 0.086922\n"
     ]
    },
    {
     "name": "stderr",
     "output_type": "stream",
     "text": [
      "\r",
      "                                                                               \r",
      "\r",
      "                                                                               \r",
      "\r",
      "                                                                               \r",
      "\r",
      "                                                                               \r",
      "\r",
      "                                                                               \r",
      "\r",
      "                                                                               \r",
      "\r",
      "                                                                               \r",
      "\r",
      "                                                                               \r"
     ]
    },
    {
     "name": "stdout",
     "output_type": "stream",
     "text": [
      "#55 : [22 ms] train: 0.084588\n",
      "#56 : [30 ms] train: 0.082166\n",
      "#57 : [20 ms] train: 0.085243\n",
      "#58 : [30 ms] train: 0.084271\n",
      "#59 : [27 ms] train: 0.083735\n",
      "#60 : [23 ms] train: 0.083061\n",
      "#61 : [25 ms] train: 0.084020\n",
      "#62 : [25 ms] train: 0.081392\n",
      "#63 : [25 ms] train: 0.083437\n"
     ]
    },
    {
     "name": "stderr",
     "output_type": "stream",
     "text": [
      "\r",
      "                                                                               \r",
      "\r",
      "                                                                               \r",
      "\r",
      "                                                                               \r",
      "\r",
      "                                                                               \r",
      "\r",
      "                                                                               \r",
      "\r",
      "                                                                               \r",
      "\r",
      "                                                                               \r",
      "\r",
      "                                                                               \r",
      "\r",
      "                                                                               \r",
      "\r",
      "                                                                               \r"
     ]
    },
    {
     "name": "stdout",
     "output_type": "stream",
     "text": [
      "#64 : [24 ms] train: 0.083785\n",
      "#65 : [26 ms] train: 0.082719\n",
      "#66 : [25 ms] train: 0.082233\n",
      "#67 : [25 ms] train: 0.084642\n",
      "#68 : [25 ms] train: 0.080778\n",
      "#69 : [25 ms] train: 0.083686\n",
      "#70 : [25 ms] train: 0.082197\n",
      "#71 : [30 ms] train: 0.083044\n"
     ]
    },
    {
     "name": "stderr",
     "output_type": "stream",
     "text": [
      "\r",
      "                                                                               \r",
      "\r",
      "                                                                               \r",
      "\r",
      "                                                                               \r",
      "\r",
      "                                                                               \r",
      "\r",
      "                                                                               \r",
      "\r",
      "                                                                               \r",
      "\r",
      "                                                                               \r",
      "\r",
      "                                                                               \r"
     ]
    },
    {
     "name": "stdout",
     "output_type": "stream",
     "text": [
      "#72 : [30 ms] train: 0.082328\n",
      "#73 : [30 ms] train: 0.082838\n",
      "#74 : [25 ms] train: 0.081811\n",
      "#75 : [30 ms] train: 0.080444\n",
      "#76 : [25 ms] train: 0.081941\n",
      "#77 : [25 ms] train: 0.082871\n",
      "#78 : [25 ms] train: 0.083152\n",
      "#79 : [25 ms] train: 0.082566\n"
     ]
    },
    {
     "name": "stderr",
     "output_type": "stream",
     "text": [
      "\r",
      "                                                                               \r",
      "\r",
      "                                                                               \r",
      "\r",
      "                                                                               \r",
      "\r",
      "                                                                               \r",
      "\r",
      "                                                                               \r",
      "\r",
      "                                                                               \r",
      "\r",
      "                                                                               \r",
      "\r",
      "                                                                               \r"
     ]
    },
    {
     "name": "stdout",
     "output_type": "stream",
     "text": [
      "#80 : [25 ms] train: 0.080484\n",
      "#81 : [30 ms] train: 0.085944\n",
      "#82 : [25 ms] train: 0.081035\n",
      "#83 : [25 ms] train: 0.082925\n",
      "#84 : [20 ms] train: 0.081207\n",
      "#85 : [30 ms] train: 0.081800\n",
      "#86 : [25 ms] train: 0.082401\n",
      "#87 : [20 ms] train: 0.081834\n"
     ]
    },
    {
     "name": "stderr",
     "output_type": "stream",
     "text": [
      "\r",
      "                                                                               \r",
      "\r",
      "                                                                               \r",
      "\r",
      "                                                                               \r",
      "\r",
      "                                                                               \r",
      "\r",
      "                                                                               \r",
      "\r",
      "                                                                               \r",
      "\r",
      "                                                                               \r",
      "\r",
      "                                                                               \r",
      "\r",
      "                                                                               \r"
     ]
    },
    {
     "name": "stdout",
     "output_type": "stream",
     "text": [
      "#88 : [25 ms] train: 0.081452\n",
      "#89 : [30 ms] train: 0.082658\n",
      "#90 : [25 ms] train: 0.081884\n",
      "#91 : [25 ms] train: 0.081270\n",
      "#92 : [20 ms] train: 0.081008\n",
      "#93 : [30 ms] train: 0.081907\n",
      "#94 : [25 ms] train: 0.081647\n",
      "#95 : [20 ms] train: 0.082407\n",
      "#96 : [25 ms] train: 0.080670\n"
     ]
    },
    {
     "name": "stderr",
     "output_type": "stream",
     "text": [
      "\r",
      "                                                                               \r",
      "\r",
      "                                                                               \r",
      "\r",
      "                                                                               \r",
      "\r",
      "                                                                               \r",
      "\r",
      "                                                                               \r",
      "\r",
      "                                                                               \r",
      "\r",
      "                                                                               \r",
      "\r",
      "                                                                               \r",
      "\r",
      "                                                                               \r"
     ]
    },
    {
     "name": "stdout",
     "output_type": "stream",
     "text": [
      "#97 : [25 ms] train: 0.081167\n",
      "#98 : [25 ms] train: 0.083186\n",
      "#99 : [25 ms] train: 0.081833\n",
      "#100 : [25 ms] train: 0.078578\n",
      "#101 : [25 ms] train: 0.080293\n",
      "#102 : [25 ms] train: 0.080883\n",
      "#103 : [25 ms] train: 0.080014\n",
      "#104 : [25 ms] train: 0.081179\n",
      "#105 : [20 ms] train: 0.081268\n"
     ]
    },
    {
     "name": "stderr",
     "output_type": "stream",
     "text": [
      "\r",
      "                                                                               \r",
      "\r",
      "                                                                               \r",
      "\r",
      "                                                                               \r",
      "\r",
      "                                                                               \r",
      "\r",
      "                                                                               \r",
      "\r",
      "                                                                               \r",
      "\r",
      "                                                                               \r",
      "\r",
      "                                                                               \r",
      "\r",
      "                                                                               \r"
     ]
    },
    {
     "name": "stdout",
     "output_type": "stream",
     "text": [
      "#106 : [27 ms] train: 0.081624\n",
      "#107 : [23 ms] train: 0.082297\n",
      "#108 : [30 ms] train: 0.079544\n",
      "#109 : [25 ms] train: 0.080932\n",
      "#110 : [20 ms] train: 0.079560\n",
      "#111 : [31 ms] train: 0.080543\n",
      "#112 : [35 ms] train: 0.078943\n"
     ]
    },
    {
     "name": "stderr",
     "output_type": "stream",
     "text": [
      "\r",
      "                                                                               \r",
      "\r",
      "                                                                               \r",
      "\r",
      "                                                                               \r",
      "\r",
      "                                                                               \r",
      "\r",
      "                                                                               \r",
      "\r",
      "                                                                               \r",
      "\r",
      "                                                                               \r",
      "\r",
      "                                                                               \r"
     ]
    },
    {
     "name": "stdout",
     "output_type": "stream",
     "text": [
      "#113 : [34 ms] train: 0.081645\n",
      "#114 : [26 ms] train: 0.080361\n",
      "#115 : [30 ms] train: 0.079836\n",
      "#116 : [20 ms] train: 0.081414\n",
      "#117 : [30 ms] train: 0.080498\n",
      "#118 : [20 ms] train: 0.079696\n",
      "#119 : [30 ms] train: 0.081960\n",
      "#120 : [20 ms] train: 0.080266\n"
     ]
    },
    {
     "name": "stderr",
     "output_type": "stream",
     "text": [
      "\r",
      "                                                                               \r",
      "\r",
      "                                                                               \r",
      "\r",
      "                                                                               \r",
      "\r",
      "                                                                               \r",
      "\r",
      "                                                                               \r",
      "\r",
      "                                                                               \r",
      "\r",
      "                                                                               \r",
      "\r",
      "                                                                               \r"
     ]
    },
    {
     "name": "stdout",
     "output_type": "stream",
     "text": [
      "#121 : [30 ms] train: 0.081525\n",
      "#122 : [20 ms] train: 0.081110\n",
      "#123 : [30 ms] train: 0.080322\n",
      "#124 : [25 ms] train: 0.080536\n",
      "#125 : [25 ms] train: 0.079719\n",
      "#126 : [20 ms] train: 0.080391\n",
      "#127 : [30 ms] train: 0.080243\n",
      "#128 : [25 ms] train: 0.078987\n",
      "#129 : [25 ms] train: 0.079775\n"
     ]
    },
    {
     "name": "stderr",
     "output_type": "stream",
     "text": [
      "\r",
      "                                                                               \r",
      "\r",
      "                                                                               \r",
      "\r",
      "                                                                               \r",
      "\r",
      "                                                                               \r",
      "\r",
      "                                                                               \r",
      "\r",
      "                                                                               \r",
      "\r",
      "                                                                               \r",
      "\r",
      "                                                                               \r",
      "\r",
      "                                                                               \r"
     ]
    },
    {
     "name": "stdout",
     "output_type": "stream",
     "text": [
      "#130 : [20 ms] train: 0.081299\n",
      "#131 : [30 ms] train: 0.079469\n",
      "#132 : [25 ms] train: 0.081913\n",
      "#133 : [25 ms] train: 0.079179\n",
      "#134 : [25 ms] train: 0.079446\n",
      "#135 : [25 ms] train: 0.079481\n",
      "#136 : [20 ms] train: 0.080903\n",
      "#137 : [29 ms] train: 0.080146\n"
     ]
    },
    {
     "name": "stderr",
     "output_type": "stream",
     "text": [
      "\r",
      "                                                                               \r",
      "\r",
      "                                                                               \r",
      "\r",
      "                                                                               \r",
      "\r",
      "                                                                               \r",
      "\r",
      "                                                                               \r",
      "\r",
      "                                                                               \r",
      "\r",
      "                                                                               \r",
      "\r",
      "                                                                               \r"
     ]
    },
    {
     "name": "stdout",
     "output_type": "stream",
     "text": [
      "#138 : [30 ms] train: 0.080631\n",
      "#139 : [20 ms] train: 0.079012\n",
      "#140 : [27 ms] train: 0.081303\n",
      "#141 : [20 ms] train: 0.079716\n",
      "#142 : [27 ms] train: 0.080364\n",
      "#143 : [23 ms] train: 0.079210\n",
      "#144 : [27 ms] train: 0.079502\n",
      "#145 : [23 ms] train: 0.079513\n",
      "#146 : [25 ms] train: 0.080245\n"
     ]
    },
    {
     "name": "stderr",
     "output_type": "stream",
     "text": [
      "\r",
      "                                                                               \r",
      "\r",
      "                                                                               \r",
      "\r",
      "                                                                               \r",
      "\r",
      "                                                                               \r",
      "\r",
      "                                                                               \r",
      "\r",
      "                                                                               \r",
      "\r",
      "                                                                               \r",
      "\r",
      "                                                                               \r"
     ]
    },
    {
     "name": "stdout",
     "output_type": "stream",
     "text": [
      "#147 : [30 ms] train: 0.078694\n",
      "#148 : [25 ms] train: 0.078770\n",
      "#149 : [25 ms] train: 0.079246\n",
      "#150 : [20 ms] train: 0.080169\n",
      "#151 : [25 ms] train: 0.079938\n",
      "#152 : [28 ms] train: 0.080294\n",
      "#153 : [33 ms] train: 0.079836\n",
      "#154 : [20 ms] train: 0.080444\n",
      "#155 : [29 ms] train: 0.079808\n"
     ]
    },
    {
     "name": "stderr",
     "output_type": "stream",
     "text": [
      "\r",
      "                                                                               \r",
      "\r",
      "                                                                               \r",
      "\r",
      "                                                                               \r",
      "\r",
      "                                                                               \r",
      "\r",
      "                                                                               \r",
      "\r",
      "                                                                               \r",
      "\r",
      "                                                                               \r",
      "\r",
      "                                                                               \r"
     ]
    },
    {
     "name": "stdout",
     "output_type": "stream",
     "text": [
      "#156 : [28 ms] train: 0.078373\n",
      "#157 : [28 ms] train: 0.080226\n",
      "#158 : [25 ms] train: 0.079713\n",
      "#159 : [25 ms] train: 0.079909\n",
      "#160 : [23 ms] train: 0.079051\n",
      "#161 : [27 ms] train: 0.079618\n",
      "#162 : [25 ms] train: 0.079345\n",
      "#163 : [25 ms] train: 0.079592\n"
     ]
    },
    {
     "name": "stderr",
     "output_type": "stream",
     "text": [
      "\r",
      "                                                                               \r",
      "\r",
      "                                                                               \r",
      "\r",
      "                                                                               \r",
      "\r",
      "                                                                               \r",
      "\r",
      "                                                                               \r",
      "\r",
      "                                                                               \r",
      "\r",
      "                                                                               \r",
      "\r",
      "                                                                               \r",
      "\r",
      "                                                                               \r"
     ]
    },
    {
     "name": "stdout",
     "output_type": "stream",
     "text": [
      "#164 : [25 ms] train: 0.079417\n",
      "#165 : [25 ms] train: 0.079039\n",
      "#166 : [25 ms] train: 0.078663\n",
      "#167 : [25 ms] train: 0.080228\n",
      "#168 : [25 ms] train: 0.079928\n",
      "#169 : [19 ms] train: 0.078561\n",
      "#170 : [31 ms] train: 0.079746\n",
      "#171 : [25 ms] train: 0.078748\n",
      "#172 : [25 ms] train: 0.079456\n"
     ]
    },
    {
     "name": "stderr",
     "output_type": "stream",
     "text": [
      "\r",
      "                                                                               \r",
      "\r",
      "                                                                               \r",
      "\r",
      "                                                                               \r",
      "\r",
      "                                                                               \r",
      "\r",
      "                                                                               \r",
      "\r",
      "                                                                               \r",
      "\r",
      "                                                                               \r",
      "\r",
      "                                                                               \r"
     ]
    },
    {
     "name": "stdout",
     "output_type": "stream",
     "text": [
      "#173 : [20 ms] train: 0.079062\n",
      "#174 : [30 ms] train: 0.079876\n",
      "#175 : [20 ms] train: 0.078858\n",
      "#176 : [30 ms] train: 0.078431\n",
      "#177 : [25 ms] train: 0.080269\n",
      "#178 : [25 ms] train: 0.080420\n",
      "#179 : [25 ms] train: 0.078149\n",
      "#180 : [25 ms] train: 0.080513\n",
      "#181 : [20 ms] train: 0.078420\n"
     ]
    },
    {
     "name": "stderr",
     "output_type": "stream",
     "text": [
      "\r",
      "                                                                               \r",
      "\r",
      "                                                                               \r",
      "\r",
      "                                                                               \r",
      "\r",
      "                                                                               \r",
      "\r",
      "                                                                               \r",
      "\r",
      "                                                                               \r",
      "\r",
      "                                                                               \r",
      "\r",
      "                                                                               \r"
     ]
    },
    {
     "name": "stdout",
     "output_type": "stream",
     "text": [
      "#182 : [30 ms] train: 0.078371\n",
      "#183 : [25 ms] train: 0.079497\n",
      "#184 : [25 ms] train: 0.078455\n",
      "#185 : [30 ms] train: 0.079368\n",
      "#186 : [20 ms] train: 0.079289\n",
      "#187 : [30 ms] train: 0.078600\n",
      "#188 : [25 ms] train: 0.078884\n",
      "#189 : [24 ms] train: 0.080349\n"
     ]
    },
    {
     "name": "stderr",
     "output_type": "stream",
     "text": [
      "\r",
      "                                                                               \r",
      "\r",
      "                                                                               \r",
      "\r",
      "                                                                               \r",
      "\r",
      "                                                                               \r",
      "\r",
      "                                                                               \r",
      "\r",
      "                                                                               \r",
      "\r",
      "                                                                               \r",
      "\r",
      "                                                                               \r"
     ]
    },
    {
     "name": "stdout",
     "output_type": "stream",
     "text": [
      "#190 : [31 ms] train: 0.077289\n",
      "#191 : [25 ms] train: 0.079231\n",
      "#192 : [20 ms] train: 0.077550\n",
      "#193 : [24 ms] train: 0.079686\n",
      "#194 : [31 ms] train: 0.078947\n",
      "#195 : [19 ms] train: 0.078395\n",
      "#196 : [28 ms] train: 0.079494\n",
      "#197 : [23 ms] train: 0.078424\n",
      "#198 : [25 ms] train: 0.078946\n",
      "#199 : [30 ms] train: 0.078744\n",
      "#200 : [24 ms] train: 0.079410\n"
     ]
    },
    {
     "name": "stderr",
     "output_type": "stream",
     "text": [
      "\r",
      "                                                                               \r",
      "\r",
      "                                                                               \r",
      "\r",
      "                                                                               \r",
      "\r",
      "                                                                               \r",
      "\r",
      "                                                                               \r",
      "\r",
      "                                                                               \r",
      "\r",
      "                                                                               \r",
      "\r",
      "                                                                               \r"
     ]
    }
   ],
   "source": [
    "kohonen = algorithms.SOFM(\n",
    "    n_inputs=2,\n",
    "    n_outputs=20,\n",
    "    learning_radius=0,\n",
    "    step=0.5,\n",
    "    shuffle_data=True,\n",
    "    weight='sample_from_data',\n",
    "    verbose=True,\n",
    ")\n",
    "kohonen.train(data, epochs=200)"
   ]
  },
  {
   "cell_type": "markdown",
   "metadata": {},
   "source": [
    "Terakhir, buat plot untuk melihat perbedaan klaster pada iris dataset."
   ]
  },
  {
   "cell_type": "code",
   "execution_count": 5,
   "metadata": {},
   "outputs": [
    {
     "data": {
      "image/png": "[encoded data removed]",
      "text/plain": [
       "<Figure size 432x288 with 1 Axes>"
      ]
     },
     "metadata": {},
     "output_type": "display_data"
    }
   ],
   "source": [
    "plt.style.use('ggplot')\n",
    "utils.reproducible()\n",
    "ggplot_colors = plt.rcParams['axes.prop_cycle']\n",
    "colors = np.array([c['color'] for c in ggplot_colors])\n",
    "\n",
    "plt.title('Clustering iris dataset with SOFM')\n",
    "plt.xlabel('Feature #3')\n",
    "plt.ylabel('Feature #4')\n",
    "\n",
    "plt.scatter(*data.T, c=colors[target], s=100, alpha=1)\n",
    "plt.show()"
   ]
  }
 ],
 "metadata": {
  "kernelspec": {
   "display_name": "Python 3",
   "language": "python",
   "name": "python3"
  },
  "language_info": {
   "codemirror_mode": {
    "name": "ipython",
    "version": 3
   },
   "file_extension": ".py",
   "mimetype": "text/x-python",
   "name": "python",
   "nbconvert_exporter": "python",
   "pygments_lexer": "ipython3",
   "version": "3.7.3"
  }
 },
 "nbformat": 4,
 "nbformat_minor": 4
}
